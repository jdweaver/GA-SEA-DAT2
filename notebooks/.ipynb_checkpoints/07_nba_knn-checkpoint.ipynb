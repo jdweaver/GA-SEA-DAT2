{
 "cells": [
  {
   "cell_type": "markdown",
   "metadata": {},
   "source": [
    "# KNN exercise with NBA player data"
   ]
  },
  {
   "cell_type": "markdown",
   "metadata": {},
   "source": [
    "## Introduction\n",
    "\n",
    "- NBA player statistics from 2014-2015 (partial season): [data](https://github.com/JamesByers/GA-SEA-DAT1/blob/master/data/NBA_players_2015.csv), [data dictionary](https://github.com/JamesByers/GA-SEA-DAT1/blob/master/slides/07_nba_paper.pdf)\n",
    "- **Problem to solve:** Predict player position using assists, steals, blocks, turnovers, and personal fouls"
   ]
  },
  {
   "cell_type": "markdown",
   "metadata": {},
   "source": [
    "## Step 1: Read the data into Pandas"
   ]
  },
  {
   "cell_type": "code",
   "execution_count": 2,
   "metadata": {
    "collapsed": false
   },
   "outputs": [],
   "source": [
    "# read the data into a DataFrame named nba\n",
    "import pandas as pd\n",
    "path = '/GA-SEA-DAT2/data/'\n",
    "url = path + 'NBA_players_2015.csv'\n",
    "nba = pd.read_csv(url, index_col=0)"
   ]
  },
  {
   "cell_type": "code",
   "execution_count": 4,
   "metadata": {
    "collapsed": false
   },
   "outputs": [
    {
     "data": {
      "text/plain": [
       "(478, 49)"
      ]
     },
     "execution_count": 4,
     "metadata": {},
     "output_type": "execute_result"
    }
   ],
   "source": [
    "# examine the columns names to see what's there\n",
    "nba.shape"
   ]
  },
  {
   "cell_type": "code",
   "execution_count": 6,
   "metadata": {
    "collapsed": false
   },
   "outputs": [
    {
     "data": {
      "text/html": [
       "<div>\n",
       "<table border=\"1\" class=\"dataframe\">\n",
       "  <thead>\n",
       "    <tr style=\"text-align: right;\">\n",
       "      <th></th>\n",
       "      <th>season_end</th>\n",
       "      <th>age</th>\n",
       "      <th>g</th>\n",
       "      <th>gs</th>\n",
       "      <th>mp</th>\n",
       "      <th>fg</th>\n",
       "      <th>fga</th>\n",
       "      <th>fg_</th>\n",
       "      <th>x3p</th>\n",
       "      <th>x3pa</th>\n",
       "      <th>...</th>\n",
       "      <th>TOV%</th>\n",
       "      <th>USG%</th>\n",
       "      <th>OWS</th>\n",
       "      <th>DWS</th>\n",
       "      <th>WS</th>\n",
       "      <th>WS/48</th>\n",
       "      <th>OBPM</th>\n",
       "      <th>DBPM</th>\n",
       "      <th>BPM</th>\n",
       "      <th>VORP</th>\n",
       "    </tr>\n",
       "  </thead>\n",
       "  <tbody>\n",
       "    <tr>\n",
       "      <th>count</th>\n",
       "      <td>478.0</td>\n",
       "      <td>478.000000</td>\n",
       "      <td>478.000000</td>\n",
       "      <td>478.000000</td>\n",
       "      <td>478.000000</td>\n",
       "      <td>478.000000</td>\n",
       "      <td>478.000000</td>\n",
       "      <td>478.000000</td>\n",
       "      <td>478.000000</td>\n",
       "      <td>478.000000</td>\n",
       "      <td>...</td>\n",
       "      <td>478.000000</td>\n",
       "      <td>478.000000</td>\n",
       "      <td>478.000000</td>\n",
       "      <td>478.000000</td>\n",
       "      <td>478.000000</td>\n",
       "      <td>478.000000</td>\n",
       "      <td>478.000000</td>\n",
       "      <td>478.000000</td>\n",
       "      <td>478.000000</td>\n",
       "      <td>478.000000</td>\n",
       "    </tr>\n",
       "    <tr>\n",
       "      <th>mean</th>\n",
       "      <td>2015.0</td>\n",
       "      <td>26.573222</td>\n",
       "      <td>42.104603</td>\n",
       "      <td>19.874477</td>\n",
       "      <td>20.045607</td>\n",
       "      <td>3.018201</td>\n",
       "      <td>6.847699</td>\n",
       "      <td>0.429230</td>\n",
       "      <td>0.630544</td>\n",
       "      <td>1.855649</td>\n",
       "      <td>...</td>\n",
       "      <td>13.424268</td>\n",
       "      <td>18.915272</td>\n",
       "      <td>1.055858</td>\n",
       "      <td>0.971339</td>\n",
       "      <td>2.027197</td>\n",
       "      <td>0.073575</td>\n",
       "      <td>-1.396862</td>\n",
       "      <td>-0.495816</td>\n",
       "      <td>-1.892678</td>\n",
       "      <td>0.485983</td>\n",
       "    </tr>\n",
       "    <tr>\n",
       "      <th>std</th>\n",
       "      <td>0.0</td>\n",
       "      <td>4.219585</td>\n",
       "      <td>18.950602</td>\n",
       "      <td>22.170034</td>\n",
       "      <td>9.313441</td>\n",
       "      <td>2.052790</td>\n",
       "      <td>4.386828</td>\n",
       "      <td>0.111007</td>\n",
       "      <td>0.665808</td>\n",
       "      <td>1.790564</td>\n",
       "      <td>...</td>\n",
       "      <td>6.559989</td>\n",
       "      <td>5.493491</td>\n",
       "      <td>1.589667</td>\n",
       "      <td>0.876932</td>\n",
       "      <td>2.243138</td>\n",
       "      <td>0.133530</td>\n",
       "      <td>4.251216</td>\n",
       "      <td>2.299572</td>\n",
       "      <td>5.116001</td>\n",
       "      <td>1.013097</td>\n",
       "    </tr>\n",
       "    <tr>\n",
       "      <th>min</th>\n",
       "      <td>2015.0</td>\n",
       "      <td>19.000000</td>\n",
       "      <td>1.000000</td>\n",
       "      <td>0.000000</td>\n",
       "      <td>0.700000</td>\n",
       "      <td>0.000000</td>\n",
       "      <td>0.000000</td>\n",
       "      <td>0.000000</td>\n",
       "      <td>0.000000</td>\n",
       "      <td>0.000000</td>\n",
       "      <td>...</td>\n",
       "      <td>0.000000</td>\n",
       "      <td>0.000000</td>\n",
       "      <td>-2.100000</td>\n",
       "      <td>-0.100000</td>\n",
       "      <td>-0.800000</td>\n",
       "      <td>-1.059000</td>\n",
       "      <td>-36.800000</td>\n",
       "      <td>-13.500000</td>\n",
       "      <td>-50.300000</td>\n",
       "      <td>-1.000000</td>\n",
       "    </tr>\n",
       "    <tr>\n",
       "      <th>25%</th>\n",
       "      <td>2015.0</td>\n",
       "      <td>23.000000</td>\n",
       "      <td>27.000000</td>\n",
       "      <td>0.000000</td>\n",
       "      <td>12.600000</td>\n",
       "      <td>1.425000</td>\n",
       "      <td>3.400000</td>\n",
       "      <td>0.391000</td>\n",
       "      <td>0.000000</td>\n",
       "      <td>0.100000</td>\n",
       "      <td>...</td>\n",
       "      <td>10.000000</td>\n",
       "      <td>14.800000</td>\n",
       "      <td>0.000000</td>\n",
       "      <td>0.200000</td>\n",
       "      <td>0.300000</td>\n",
       "      <td>0.040250</td>\n",
       "      <td>-2.800000</td>\n",
       "      <td>-1.600000</td>\n",
       "      <td>-3.300000</td>\n",
       "      <td>-0.100000</td>\n",
       "    </tr>\n",
       "    <tr>\n",
       "      <th>50%</th>\n",
       "      <td>2015.0</td>\n",
       "      <td>26.000000</td>\n",
       "      <td>47.000000</td>\n",
       "      <td>10.500000</td>\n",
       "      <td>19.850000</td>\n",
       "      <td>2.700000</td>\n",
       "      <td>5.900000</td>\n",
       "      <td>0.432000</td>\n",
       "      <td>0.450000</td>\n",
       "      <td>1.400000</td>\n",
       "      <td>...</td>\n",
       "      <td>12.900000</td>\n",
       "      <td>18.400000</td>\n",
       "      <td>0.600000</td>\n",
       "      <td>0.800000</td>\n",
       "      <td>1.400000</td>\n",
       "      <td>0.082500</td>\n",
       "      <td>-1.000000</td>\n",
       "      <td>-0.500000</td>\n",
       "      <td>-1.300000</td>\n",
       "      <td>0.100000</td>\n",
       "    </tr>\n",
       "    <tr>\n",
       "      <th>75%</th>\n",
       "      <td>2015.0</td>\n",
       "      <td>29.000000</td>\n",
       "      <td>59.000000</td>\n",
       "      <td>39.000000</td>\n",
       "      <td>28.175000</td>\n",
       "      <td>4.275000</td>\n",
       "      <td>9.600000</td>\n",
       "      <td>0.481750</td>\n",
       "      <td>1.000000</td>\n",
       "      <td>3.075000</td>\n",
       "      <td>...</td>\n",
       "      <td>15.900000</td>\n",
       "      <td>21.900000</td>\n",
       "      <td>1.600000</td>\n",
       "      <td>1.500000</td>\n",
       "      <td>3.000000</td>\n",
       "      <td>0.123000</td>\n",
       "      <td>0.500000</td>\n",
       "      <td>0.875000</td>\n",
       "      <td>0.500000</td>\n",
       "      <td>0.700000</td>\n",
       "    </tr>\n",
       "    <tr>\n",
       "      <th>max</th>\n",
       "      <td>2015.0</td>\n",
       "      <td>38.000000</td>\n",
       "      <td>66.000000</td>\n",
       "      <td>66.000000</td>\n",
       "      <td>38.900000</td>\n",
       "      <td>9.500000</td>\n",
       "      <td>21.400000</td>\n",
       "      <td>1.000000</td>\n",
       "      <td>3.400000</td>\n",
       "      <td>8.000000</td>\n",
       "      <td>...</td>\n",
       "      <td>100.000000</td>\n",
       "      <td>45.900000</td>\n",
       "      <td>9.500000</td>\n",
       "      <td>4.300000</td>\n",
       "      <td>13.000000</td>\n",
       "      <td>1.489000</td>\n",
       "      <td>28.300000</td>\n",
       "      <td>6.500000</td>\n",
       "      <td>15.100000</td>\n",
       "      <td>6.200000</td>\n",
       "    </tr>\n",
       "  </tbody>\n",
       "</table>\n",
       "<p>8 rows × 46 columns</p>\n",
       "</div>"
      ],
      "text/plain": [
       "       season_end         age           g          gs          mp          fg  \\\n",
       "count       478.0  478.000000  478.000000  478.000000  478.000000  478.000000   \n",
       "mean       2015.0   26.573222   42.104603   19.874477   20.045607    3.018201   \n",
       "std           0.0    4.219585   18.950602   22.170034    9.313441    2.052790   \n",
       "min        2015.0   19.000000    1.000000    0.000000    0.700000    0.000000   \n",
       "25%        2015.0   23.000000   27.000000    0.000000   12.600000    1.425000   \n",
       "50%        2015.0   26.000000   47.000000   10.500000   19.850000    2.700000   \n",
       "75%        2015.0   29.000000   59.000000   39.000000   28.175000    4.275000   \n",
       "max        2015.0   38.000000   66.000000   66.000000   38.900000    9.500000   \n",
       "\n",
       "              fga         fg_         x3p        x3pa     ...            TOV%  \\\n",
       "count  478.000000  478.000000  478.000000  478.000000     ...      478.000000   \n",
       "mean     6.847699    0.429230    0.630544    1.855649     ...       13.424268   \n",
       "std      4.386828    0.111007    0.665808    1.790564     ...        6.559989   \n",
       "min      0.000000    0.000000    0.000000    0.000000     ...        0.000000   \n",
       "25%      3.400000    0.391000    0.000000    0.100000     ...       10.000000   \n",
       "50%      5.900000    0.432000    0.450000    1.400000     ...       12.900000   \n",
       "75%      9.600000    0.481750    1.000000    3.075000     ...       15.900000   \n",
       "max     21.400000    1.000000    3.400000    8.000000     ...      100.000000   \n",
       "\n",
       "             USG%         OWS         DWS          WS       WS/48        OBPM  \\\n",
       "count  478.000000  478.000000  478.000000  478.000000  478.000000  478.000000   \n",
       "mean    18.915272    1.055858    0.971339    2.027197    0.073575   -1.396862   \n",
       "std      5.493491    1.589667    0.876932    2.243138    0.133530    4.251216   \n",
       "min      0.000000   -2.100000   -0.100000   -0.800000   -1.059000  -36.800000   \n",
       "25%     14.800000    0.000000    0.200000    0.300000    0.040250   -2.800000   \n",
       "50%     18.400000    0.600000    0.800000    1.400000    0.082500   -1.000000   \n",
       "75%     21.900000    1.600000    1.500000    3.000000    0.123000    0.500000   \n",
       "max     45.900000    9.500000    4.300000   13.000000    1.489000   28.300000   \n",
       "\n",
       "             DBPM         BPM        VORP  \n",
       "count  478.000000  478.000000  478.000000  \n",
       "mean    -0.495816   -1.892678    0.485983  \n",
       "std      2.299572    5.116001    1.013097  \n",
       "min    -13.500000  -50.300000   -1.000000  \n",
       "25%     -1.600000   -3.300000   -0.100000  \n",
       "50%     -0.500000   -1.300000    0.100000  \n",
       "75%      0.875000    0.500000    0.700000  \n",
       "max      6.500000   15.100000    6.200000  \n",
       "\n",
       "[8 rows x 46 columns]"
      ]
     },
     "execution_count": 6,
     "metadata": {},
     "output_type": "execute_result"
    }
   ],
   "source": [
    "nba.describe()"
   ]
  },
  {
   "cell_type": "code",
   "execution_count": 7,
   "metadata": {
    "collapsed": false
   },
   "outputs": [
    {
     "data": {
      "text/html": [
       "<div>\n",
       "<table border=\"1\" class=\"dataframe\">\n",
       "  <thead>\n",
       "    <tr style=\"text-align: right;\">\n",
       "      <th></th>\n",
       "      <th>season_end</th>\n",
       "      <th>player</th>\n",
       "      <th>pos</th>\n",
       "      <th>age</th>\n",
       "      <th>bref_team_id</th>\n",
       "      <th>g</th>\n",
       "      <th>gs</th>\n",
       "      <th>mp</th>\n",
       "      <th>fg</th>\n",
       "      <th>fga</th>\n",
       "      <th>...</th>\n",
       "      <th>TOV%</th>\n",
       "      <th>USG%</th>\n",
       "      <th>OWS</th>\n",
       "      <th>DWS</th>\n",
       "      <th>WS</th>\n",
       "      <th>WS/48</th>\n",
       "      <th>OBPM</th>\n",
       "      <th>DBPM</th>\n",
       "      <th>BPM</th>\n",
       "      <th>VORP</th>\n",
       "    </tr>\n",
       "  </thead>\n",
       "  <tbody>\n",
       "    <tr>\n",
       "      <th>0</th>\n",
       "      <td>2015</td>\n",
       "      <td>Quincy Acy</td>\n",
       "      <td>F</td>\n",
       "      <td>24</td>\n",
       "      <td>NYK</td>\n",
       "      <td>52</td>\n",
       "      <td>21</td>\n",
       "      <td>19.2</td>\n",
       "      <td>2.2</td>\n",
       "      <td>4.6</td>\n",
       "      <td>...</td>\n",
       "      <td>15.1</td>\n",
       "      <td>14.7</td>\n",
       "      <td>0.6</td>\n",
       "      <td>0.5</td>\n",
       "      <td>1.0</td>\n",
       "      <td>0.050</td>\n",
       "      <td>-2.6</td>\n",
       "      <td>-0.7</td>\n",
       "      <td>-3.4</td>\n",
       "      <td>-0.3</td>\n",
       "    </tr>\n",
       "    <tr>\n",
       "      <th>1</th>\n",
       "      <td>2015</td>\n",
       "      <td>Jordan Adams</td>\n",
       "      <td>G</td>\n",
       "      <td>20</td>\n",
       "      <td>MEM</td>\n",
       "      <td>18</td>\n",
       "      <td>0</td>\n",
       "      <td>7.3</td>\n",
       "      <td>1.0</td>\n",
       "      <td>2.1</td>\n",
       "      <td>...</td>\n",
       "      <td>15.9</td>\n",
       "      <td>17.7</td>\n",
       "      <td>0.0</td>\n",
       "      <td>0.2</td>\n",
       "      <td>0.2</td>\n",
       "      <td>0.076</td>\n",
       "      <td>-2.3</td>\n",
       "      <td>1.8</td>\n",
       "      <td>-0.5</td>\n",
       "      <td>0.0</td>\n",
       "    </tr>\n",
       "    <tr>\n",
       "      <th>2</th>\n",
       "      <td>2015</td>\n",
       "      <td>Steven Adams</td>\n",
       "      <td>C</td>\n",
       "      <td>21</td>\n",
       "      <td>OKC</td>\n",
       "      <td>51</td>\n",
       "      <td>50</td>\n",
       "      <td>24.2</td>\n",
       "      <td>3.0</td>\n",
       "      <td>5.5</td>\n",
       "      <td>...</td>\n",
       "      <td>19.2</td>\n",
       "      <td>14.8</td>\n",
       "      <td>1.0</td>\n",
       "      <td>1.8</td>\n",
       "      <td>2.8</td>\n",
       "      <td>0.109</td>\n",
       "      <td>-2.0</td>\n",
       "      <td>2.0</td>\n",
       "      <td>-0.1</td>\n",
       "      <td>0.6</td>\n",
       "    </tr>\n",
       "    <tr>\n",
       "      <th>3</th>\n",
       "      <td>2015</td>\n",
       "      <td>Jeff Adrien</td>\n",
       "      <td>F</td>\n",
       "      <td>28</td>\n",
       "      <td>MIN</td>\n",
       "      <td>17</td>\n",
       "      <td>0</td>\n",
       "      <td>12.6</td>\n",
       "      <td>1.1</td>\n",
       "      <td>2.6</td>\n",
       "      <td>...</td>\n",
       "      <td>12.9</td>\n",
       "      <td>14.1</td>\n",
       "      <td>0.2</td>\n",
       "      <td>0.2</td>\n",
       "      <td>0.4</td>\n",
       "      <td>0.093</td>\n",
       "      <td>-2.6</td>\n",
       "      <td>0.8</td>\n",
       "      <td>-1.8</td>\n",
       "      <td>0.0</td>\n",
       "    </tr>\n",
       "    <tr>\n",
       "      <th>4</th>\n",
       "      <td>2015</td>\n",
       "      <td>Arron Afflalo</td>\n",
       "      <td>G</td>\n",
       "      <td>29</td>\n",
       "      <td>TOT</td>\n",
       "      <td>60</td>\n",
       "      <td>54</td>\n",
       "      <td>32.5</td>\n",
       "      <td>5.0</td>\n",
       "      <td>11.8</td>\n",
       "      <td>...</td>\n",
       "      <td>10.9</td>\n",
       "      <td>19.6</td>\n",
       "      <td>1.4</td>\n",
       "      <td>0.7</td>\n",
       "      <td>2.1</td>\n",
       "      <td>0.051</td>\n",
       "      <td>-0.2</td>\n",
       "      <td>-1.4</td>\n",
       "      <td>-1.6</td>\n",
       "      <td>0.2</td>\n",
       "    </tr>\n",
       "  </tbody>\n",
       "</table>\n",
       "<p>5 rows × 49 columns</p>\n",
       "</div>"
      ],
      "text/plain": [
       "   season_end         player pos  age bref_team_id   g  gs    mp   fg   fga  \\\n",
       "0        2015     Quincy Acy   F   24          NYK  52  21  19.2  2.2   4.6   \n",
       "1        2015   Jordan Adams   G   20          MEM  18   0   7.3  1.0   2.1   \n",
       "2        2015   Steven Adams   C   21          OKC  51  50  24.2  3.0   5.5   \n",
       "3        2015    Jeff Adrien   F   28          MIN  17   0  12.6  1.1   2.6   \n",
       "4        2015  Arron Afflalo   G   29          TOT  60  54  32.5  5.0  11.8   \n",
       "\n",
       "   ...   TOV%  USG%  OWS  DWS   WS  WS/48  OBPM  DBPM  BPM  VORP  \n",
       "0  ...   15.1  14.7  0.6  0.5  1.0  0.050  -2.6  -0.7 -3.4  -0.3  \n",
       "1  ...   15.9  17.7  0.0  0.2  0.2  0.076  -2.3   1.8 -0.5   0.0  \n",
       "2  ...   19.2  14.8  1.0  1.8  2.8  0.109  -2.0   2.0 -0.1   0.6  \n",
       "3  ...   12.9  14.1  0.2  0.2  0.4  0.093  -2.6   0.8 -1.8   0.0  \n",
       "4  ...   10.9  19.6  1.4  0.7  2.1  0.051  -0.2  -1.4 -1.6   0.2  \n",
       "\n",
       "[5 rows x 49 columns]"
      ]
     },
     "execution_count": 7,
     "metadata": {},
     "output_type": "execute_result"
    }
   ],
   "source": [
    "nba.head(5)"
   ]
  },
  {
   "cell_type": "code",
   "execution_count": 63,
   "metadata": {
    "collapsed": false
   },
   "outputs": [
    {
     "data": {
      "text/plain": [
       "G    200\n",
       "F    199\n",
       "C     79\n",
       "Name: pos, dtype: int64"
      ]
     },
     "execution_count": 63,
     "metadata": {},
     "output_type": "execute_result"
    },
    {
     "data": {
      "image/png": "[encoded data removed]",
      "text/plain": [
       "<matplotlib.figure.Figure at 0x10e8be80>"
      ]
     },
     "metadata": {},
     "output_type": "display_data"
    }
   ],
   "source": [
    "# examine the number of players in each position to get a feel for the data\n",
    "#nba.groupby('pos').mean().plot(kind='bar')\n",
    "#drinks.continent.value_counts().plot(kind='bar')\n",
    "\n",
    "# allow plots to appear in the notebook\n",
    "%matplotlib inline\n",
    "import matplotlib.pyplot as plt\n",
    "\n",
    "nba.pos.value_counts().plot(kind='bar', colormap='viridis')\n",
    "\n",
    "nba.pos.value_counts()"
   ]
  },
  {
   "cell_type": "markdown",
   "metadata": {},
   "source": [
    "## Step 2: Create X and y\n",
    "\n",
    "Use the following features: assists, steals, blocks, turnovers, personal fouls"
   ]
  },
  {
   "cell_type": "code",
   "execution_count": 17,
   "metadata": {
    "collapsed": false
   },
   "outputs": [],
   "source": [
    "# map positions to numbers\n",
    "# Specifically map the position names (C, F and G) to numbers starting with 0\n",
    "#   and store them in a new column named 'pos_num'.\n",
    "# We need to do this because KNN model algorithms require that the features\n",
    "#   and responses be numeric.\n",
    "nba['pos_num'] = nba.pos.map({'C':0, 'F':1, 'G':2})"
   ]
  },
  {
   "cell_type": "code",
   "execution_count": 38,
   "metadata": {
    "collapsed": false
   },
   "outputs": [
    {
     "name": "stdout",
     "output_type": "stream",
     "text": [
      "      ast  stl  blk  tov   pf\n",
      "0     1.0  0.4  0.3  0.9  2.2\n",
      "1     0.4  0.4  0.3  0.4  0.8\n",
      "2     1.0  0.4  1.2  1.6  3.0\n",
      "3     0.9  0.2  0.5  0.5  1.8\n",
      "4     1.9  0.6  0.1  1.6  2.1\n",
      "5     0.6  0.3  0.7  1.0  2.3\n",
      "6     0.6  0.4  0.4  0.4  1.8\n",
      "7     1.0  0.6  0.9  1.0  2.1\n",
      "8     1.8  0.7  1.0  1.8  1.9\n",
      "9     1.3  0.3  0.8  0.7  1.8\n",
      "10    1.4  2.0  0.5  1.3  2.8\n",
      "11    0.7  1.0  0.9  0.7  1.8\n",
      "12    1.2  0.4  0.9  0.8  2.5\n",
      "13    0.7  0.5  1.0  0.5  1.6\n",
      "14    1.1  0.7  0.1  0.8  1.9\n",
      "15    1.0  0.5  0.3  0.4  1.0\n",
      "16    1.0  0.6  0.3  1.1  2.0\n",
      "17    2.5  1.1  1.1  2.2  3.0\n",
      "18    3.1  1.0  0.4  2.2  2.2\n",
      "19    0.1  0.2  0.6  0.2  0.9\n",
      "20    0.9  0.2  0.3  0.9  2.1\n",
      "21    2.4  1.9  0.2  1.7  2.4\n",
      "22    0.9  0.8  0.5  0.8  2.5\n",
      "23    0.9  0.4  0.8  1.3  1.9\n",
      "24    4.7  0.7  0.0  1.9  1.2\n",
      "25    0.3  0.2  0.2  0.4  1.2\n",
      "26    0.4  0.3  0.2  0.4  1.1\n",
      "27    0.1  0.1  0.1  0.2  0.6\n",
      "28    1.1  0.6  0.1  0.7  1.4\n",
      "29    3.3  0.4  0.0  0.9  1.3\n",
      "..    ...  ...  ...  ...  ...\n",
      "448  10.0  1.8  0.6  3.7  2.3\n",
      "449   0.2  0.5  0.1  0.5  0.6\n",
      "450   0.3  0.3  0.1  0.5  0.9\n",
      "451   3.7  0.9  0.2  1.9  1.8\n",
      "452   0.7  0.3  0.2  0.7  1.0\n",
      "453   0.6  0.2  0.0  0.7  0.8\n",
      "454   3.3  0.8  0.8  2.0  2.3\n",
      "455   8.3  2.1  0.2  4.0  2.5\n",
      "456   0.1  0.5  2.4  1.1  2.6\n",
      "457   0.3  0.3  0.1  0.3  0.9\n",
      "458   1.9  1.1  0.6  2.0  2.5\n",
      "459   0.4  0.1  0.0  0.3  0.4\n",
      "460   6.1  1.0  0.3  2.3  2.2\n",
      "461   0.5  0.4  0.0  0.7  0.9\n",
      "462   0.9  0.3  0.0  0.5  0.9\n",
      "463   1.9  1.2  0.1  1.2  1.4\n",
      "464   1.2  0.9  0.4  0.8  1.9\n",
      "465   6.8  0.8  0.2  2.5  2.4\n",
      "466   0.6  0.0  0.0  0.1  0.4\n",
      "467   0.8  0.5  0.3  0.5  2.5\n",
      "468   0.2  0.1  0.4  0.2  0.7\n",
      "469   1.0  0.4  0.1  0.6  0.9\n",
      "470   0.5  0.6  1.2  0.4  1.4\n",
      "471   0.8  0.4  0.2  0.4  1.1\n",
      "472   5.2  1.6  0.3  3.8  2.4\n",
      "473   0.4  0.2  0.1  0.1  0.6\n",
      "474   1.0  0.5  0.3  1.0  2.0\n",
      "475   2.5  1.7  0.3  1.5  2.3\n",
      "476   1.6  0.6  0.8  1.0  2.5\n",
      "477   1.3  0.2  0.7  1.0  2.5\n",
      "\n",
      "[478 rows x 5 columns]\n"
     ]
    }
   ],
   "source": [
    "# create feature matrix (X) (it is a dataframe) that contains these columns from the nba dataframe:\n",
    "# 'ast', 'stl', 'blk', 'tov', 'pf'\n",
    "features = ['ast', 'stl', 'blk', 'tov', 'pf']\n",
    "X = nba[features]\n",
    "print(X)"
   ]
  },
  {
   "cell_type": "code",
   "execution_count": 39,
   "metadata": {
    "collapsed": false,
    "scrolled": true
   },
   "outputs": [
    {
     "name": "stdout",
     "output_type": "stream",
     "text": [
      "0      1\n",
      "1      2\n",
      "2      0\n",
      "3      1\n",
      "4      2\n",
      "5      0\n",
      "6      1\n",
      "7      0\n",
      "8      1\n",
      "9      1\n",
      "10     2\n",
      "11     1\n",
      "12     1\n",
      "13     0\n",
      "14     2\n",
      "15     1\n",
      "16     1\n",
      "17     2\n",
      "18     1\n",
      "19     0\n",
      "20     1\n",
      "21     1\n",
      "22     1\n",
      "23     0\n",
      "24     2\n",
      "25     1\n",
      "26     1\n",
      "27     1\n",
      "28     2\n",
      "29     2\n",
      "      ..\n",
      "448    2\n",
      "449    1\n",
      "450    1\n",
      "451    2\n",
      "452    1\n",
      "453    1\n",
      "454    1\n",
      "455    2\n",
      "456    0\n",
      "457    1\n",
      "458    2\n",
      "459    2\n",
      "460    2\n",
      "461    1\n",
      "462    2\n",
      "463    2\n",
      "464    1\n",
      "465    2\n",
      "466    1\n",
      "467    1\n",
      "468    0\n",
      "469    2\n",
      "470    1\n",
      "471    1\n",
      "472    2\n",
      "473    2\n",
      "474    2\n",
      "475    1\n",
      "476    0\n",
      "477    0\n",
      "Name: pos_num, dtype: int64\n"
     ]
    }
   ],
   "source": [
    "# create response vector (y) that contains the position numbers (our labels)\n",
    "y = nba.pos_num\n",
    "print(y)"
   ]
  },
  {
   "cell_type": "markdown",
   "metadata": {},
   "source": [
    "## Step 3: Train a KNN model (K=5)"
   ]
  },
  {
   "cell_type": "code",
   "execution_count": 40,
   "metadata": {
    "collapsed": true
   },
   "outputs": [],
   "source": [
    "# import KNN class we need from scikit-learn\n",
    "from sklearn.neighbors import KNeighborsClassifier"
   ]
  },
  {
   "cell_type": "code",
   "execution_count": 70,
   "metadata": {
    "collapsed": false
   },
   "outputs": [
    {
     "data": {
      "text/plain": [
       "sklearn.neighbors.classification.KNeighborsClassifier"
      ]
     },
     "execution_count": 70,
     "metadata": {},
     "output_type": "execute_result"
    }
   ],
   "source": [
    "# make an instance of a KNeighborsClassifier object, this creates an object that will do KNN classification, \n",
    "#it's a mini app or script that now needs data \n",
    "#name of the object does not matter\n",
    "knn = KNeighborsClassifier(n_neighbors=5) #note that n_neighbors=1 is a hyperparameter that is set ahead of time\n",
    "#think of this like setting the options for SV<M in Azure ML \n",
    "type(knn)"
   ]
  },
  {
   "cell_type": "code",
   "execution_count": 71,
   "metadata": {
    "collapsed": false
   },
   "outputs": [
    {
     "data": {
      "text/plain": [
       "KNeighborsClassifier(algorithm='auto', leaf_size=30, metric='minkowski',\n",
       "           metric_params=None, n_jobs=1, n_neighbors=5, p=2,\n",
       "           weights='uniform')"
      ]
     },
     "execution_count": 71,
     "metadata": {},
     "output_type": "execute_result"
    }
   ],
   "source": [
    "# run a knn.fit on the data to build the model\n",
    "knn.fit(X,y)"
   ]
  },
  {
   "cell_type": "markdown",
   "metadata": {},
   "source": [
    "## Step 4: Use the model:\n",
    "## Predict player position and calculate predicted probability of each position\n",
    "\n",
    "Predict for a player with these statistics: 1 assist, 1 steal, 0 blocks, 1 turnover, 2 personal fouls"
   ]
  },
  {
   "cell_type": "code",
   "execution_count": 72,
   "metadata": {
    "collapsed": true
   },
   "outputs": [],
   "source": [
    "# create a list to represent a player\n",
    "#for passing a single, new value, needs to be a list of lists to avoid a deprecation error\n",
    "player = [[1, 1, 0, 1, 2]]"
   ]
  },
  {
   "cell_type": "code",
   "execution_count": 73,
   "metadata": {
    "collapsed": false
   },
   "outputs": [
    {
     "data": {
      "text/plain": [
       "array([2], dtype=int64)"
      ]
     },
     "execution_count": 73,
     "metadata": {},
     "output_type": "execute_result"
    }
   ],
   "source": [
    "# make a prediction with the model\n",
    "knn.predict(player)"
   ]
  },
  {
   "cell_type": "code",
   "execution_count": 74,
   "metadata": {
    "collapsed": false
   },
   "outputs": [
    {
     "data": {
      "text/plain": [
       "array([[ 0. ,  0.2,  0.8]])"
      ]
     },
     "execution_count": 74,
     "metadata": {},
     "output_type": "execute_result"
    }
   ],
   "source": [
    "# calculate the predicted probabilities\n",
    "knn.predict_proba(player)\n",
    "\n"
   ]
  },
  {
   "cell_type": "markdown",
   "metadata": {},
   "source": [
    "## Step 5: Repeat steps 3 and 4 using K=50"
   ]
  },
  {
   "cell_type": "code",
   "execution_count": 46,
   "metadata": {
    "collapsed": false
   },
   "outputs": [],
   "source": [
    "# repeat for K=50\n",
    "knn = KNeighborsClassifier(n_neighbors=50)"
   ]
  },
  {
   "cell_type": "code",
   "execution_count": 47,
   "metadata": {
    "collapsed": false
   },
   "outputs": [
    {
     "data": {
      "text/plain": [
       "KNeighborsClassifier(algorithm='auto', leaf_size=30, metric='minkowski',\n",
       "           metric_params=None, n_jobs=1, n_neighbors=50, p=2,\n",
       "           weights='uniform')"
      ]
     },
     "execution_count": 47,
     "metadata": {},
     "output_type": "execute_result"
    }
   ],
   "source": [
    "# calculate predicted probabilities\n",
    "knn.fit(X,y)"
   ]
  },
  {
   "cell_type": "code",
   "execution_count": 68,
   "metadata": {
    "collapsed": false
   },
   "outputs": [
    {
     "data": {
      "text/plain": [
       "array([1], dtype=int64)"
      ]
     },
     "execution_count": 68,
     "metadata": {},
     "output_type": "execute_result"
    }
   ],
   "source": [
    "knn.predict(player)"
   ]
  },
  {
   "cell_type": "code",
   "execution_count": 69,
   "metadata": {
    "collapsed": false
   },
   "outputs": [
    {
     "data": {
      "text/plain": [
       "array([[ 0.06,  0.62,  0.32]])"
      ]
     },
     "execution_count": 69,
     "metadata": {},
     "output_type": "execute_result"
    }
   ],
   "source": [
    "knn.predict_proba(player)"
   ]
  },
  {
   "cell_type": "markdown",
   "metadata": {},
   "source": [
    "## Bonus: Explore the features to ones ones that likely are the most predictive"
   ]
  },
  {
   "cell_type": "code",
   "execution_count": 50,
   "metadata": {
    "collapsed": true
   },
   "outputs": [],
   "source": [
    "# allow plots to appear in the notebook\n",
    "%matplotlib inline\n",
    "import matplotlib.pyplot as plt\n",
    "\n",
    "# increase default figure and font sizes for easier viewing\n",
    "plt.rcParams['figure.figsize'] = (6, 4)\n",
    "plt.rcParams['font.size'] = 14"
   ]
  },
  {
   "cell_type": "code",
   "execution_count": 90,
   "metadata": {
    "collapsed": false
   },
   "outputs": [
    {
     "ename": "AttributeError",
     "evalue": "'Index' object has no attribute 'labels'",
     "output_type": "error",
     "traceback": [
      "\u001b[1;31m---------------------------------------------------------------------------\u001b[0m",
      "\u001b[1;31mAttributeError\u001b[0m                            Traceback (most recent call last)",
      "\u001b[1;32m<ipython-input-90-ca2d53601fe0>\u001b[0m in \u001b[0;36m<module>\u001b[1;34m()\u001b[0m\n\u001b[0;32m      8\u001b[0m \u001b[0massist\u001b[0m\u001b[1;33m.\u001b[0m\u001b[0mgroupby\u001b[0m\u001b[1;33m(\u001b[0m\u001b[1;34m'pos'\u001b[0m\u001b[1;33m)\u001b[0m\u001b[1;33m.\u001b[0m\u001b[0mdescribe\u001b[0m\u001b[1;33m(\u001b[0m\u001b[1;33m)\u001b[0m\u001b[1;33m\u001b[0m\u001b[0m\n\u001b[0;32m      9\u001b[0m \u001b[1;33m\u001b[0m\u001b[0m\n\u001b[1;32m---> 10\u001b[1;33m \u001b[0mnba\u001b[0m\u001b[1;33m.\u001b[0m\u001b[0mast\u001b[0m\u001b[1;33m.\u001b[0m\u001b[0mdescribe\u001b[0m\u001b[1;33m(\u001b[0m\u001b[1;33m)\u001b[0m\u001b[1;33m.\u001b[0m\u001b[0munstack\u001b[0m\u001b[1;33m(\u001b[0m\u001b[1;33m)\u001b[0m\u001b[1;33m\u001b[0m\u001b[0m\n\u001b[0m",
      "\u001b[1;32mC:\\Users\\jdweaver\\AppData\\Local\\Continuum\\Anaconda2\\lib\\site-packages\\pandas\\core\\series.pyc\u001b[0m in \u001b[0;36munstack\u001b[1;34m(self, level, fill_value)\u001b[0m\n\u001b[0;32m   2059\u001b[0m         \"\"\"\n\u001b[0;32m   2060\u001b[0m         \u001b[1;32mfrom\u001b[0m \u001b[0mpandas\u001b[0m\u001b[1;33m.\u001b[0m\u001b[0mcore\u001b[0m\u001b[1;33m.\u001b[0m\u001b[0mreshape\u001b[0m \u001b[1;32mimport\u001b[0m \u001b[0munstack\u001b[0m\u001b[1;33m\u001b[0m\u001b[0m\n\u001b[1;32m-> 2061\u001b[1;33m         \u001b[1;32mreturn\u001b[0m \u001b[0munstack\u001b[0m\u001b[1;33m(\u001b[0m\u001b[0mself\u001b[0m\u001b[1;33m,\u001b[0m \u001b[0mlevel\u001b[0m\u001b[1;33m,\u001b[0m \u001b[0mfill_value\u001b[0m\u001b[1;33m)\u001b[0m\u001b[1;33m\u001b[0m\u001b[0m\n\u001b[0m\u001b[0;32m   2062\u001b[0m \u001b[1;33m\u001b[0m\u001b[0m\n\u001b[0;32m   2063\u001b[0m     \u001b[1;31m# ----------------------------------------------------------------------\u001b[0m\u001b[1;33m\u001b[0m\u001b[1;33m\u001b[0m\u001b[0m\n",
      "\u001b[1;32mC:\\Users\\jdweaver\\AppData\\Local\\Continuum\\Anaconda2\\lib\\site-packages\\pandas\\core\\reshape.pyc\u001b[0m in \u001b[0;36munstack\u001b[1;34m(obj, level, fill_value)\u001b[0m\n\u001b[0;32m    403\u001b[0m     \u001b[1;32melse\u001b[0m\u001b[1;33m:\u001b[0m\u001b[1;33m\u001b[0m\u001b[0m\n\u001b[0;32m    404\u001b[0m         unstacker = _Unstacker(obj.values, obj.index, level=level,\n\u001b[1;32m--> 405\u001b[1;33m                                fill_value=fill_value)\n\u001b[0m\u001b[0;32m    406\u001b[0m         \u001b[1;32mreturn\u001b[0m \u001b[0munstacker\u001b[0m\u001b[1;33m.\u001b[0m\u001b[0mget_result\u001b[0m\u001b[1;33m(\u001b[0m\u001b[1;33m)\u001b[0m\u001b[1;33m\u001b[0m\u001b[0m\n\u001b[0;32m    407\u001b[0m \u001b[1;33m\u001b[0m\u001b[0m\n",
      "\u001b[1;32mC:\\Users\\jdweaver\\AppData\\Local\\Continuum\\Anaconda2\\lib\\site-packages\\pandas\\core\\reshape.pyc\u001b[0m in \u001b[0;36m__init__\u001b[1;34m(self, values, index, level, value_columns, fill_value)\u001b[0m\n\u001b[0;32m     88\u001b[0m \u001b[1;33m\u001b[0m\u001b[0m\n\u001b[0;32m     89\u001b[0m         \u001b[1;31m# when index includes `nan`, need to lift levels/strides by 1\u001b[0m\u001b[1;33m\u001b[0m\u001b[1;33m\u001b[0m\u001b[0m\n\u001b[1;32m---> 90\u001b[1;33m         \u001b[0mself\u001b[0m\u001b[1;33m.\u001b[0m\u001b[0mlift\u001b[0m \u001b[1;33m=\u001b[0m \u001b[1;36m1\u001b[0m \u001b[1;32mif\u001b[0m \u001b[1;33m-\u001b[0m\u001b[1;36m1\u001b[0m \u001b[1;32min\u001b[0m \u001b[0mself\u001b[0m\u001b[1;33m.\u001b[0m\u001b[0mindex\u001b[0m\u001b[1;33m.\u001b[0m\u001b[0mlabels\u001b[0m\u001b[1;33m[\u001b[0m\u001b[0mself\u001b[0m\u001b[1;33m.\u001b[0m\u001b[0mlevel\u001b[0m\u001b[1;33m]\u001b[0m \u001b[1;32melse\u001b[0m \u001b[1;36m0\u001b[0m\u001b[1;33m\u001b[0m\u001b[0m\n\u001b[0m\u001b[0;32m     91\u001b[0m \u001b[1;33m\u001b[0m\u001b[0m\n\u001b[0;32m     92\u001b[0m         \u001b[0mself\u001b[0m\u001b[1;33m.\u001b[0m\u001b[0mnew_index_levels\u001b[0m \u001b[1;33m=\u001b[0m \u001b[0mlist\u001b[0m\u001b[1;33m(\u001b[0m\u001b[0mindex\u001b[0m\u001b[1;33m.\u001b[0m\u001b[0mlevels\u001b[0m\u001b[1;33m)\u001b[0m\u001b[1;33m\u001b[0m\u001b[0m\n",
      "\u001b[1;31mAttributeError\u001b[0m: 'Index' object has no attribute 'labels'"
     ]
    }
   ],
   "source": [
    "# get a describe of assists grouped by position.  Use .unstack() to format the output\n",
    "x.describe()\n",
    "\n",
    "assists = ['ast', 'pos']\n",
    "\n",
    "assist = nba[assists]\n",
    "\n",
    "#assist.groupby('pos').describe()\n",
    "\n",
    "nba.ast.describe().unstack()"
   ]
  },
  {
   "cell_type": "code",
   "execution_count": 61,
   "metadata": {
    "collapsed": false
   },
   "outputs": [
    {
     "data": {
      "text/plain": [
       "<matplotlib.axes._subplots.AxesSubplot at 0x1330b9e8>"
      ]
     },
     "execution_count": 61,
     "metadata": {},
     "output_type": "execute_result"
    },
    {
     "data": {
      "image/png": "[encoded data removed]",
      "text/plain": [
       "<matplotlib.figure.Figure at 0x13564550>"
      ]
     },
     "metadata": {},
     "output_type": "display_data"
    }
   ],
   "source": [
    "# box plot of assists grouped by position\n",
    "assist.boxplot(column='ast', by='pos')\n"
   ]
  },
  {
   "cell_type": "code",
   "execution_count": 62,
   "metadata": {
    "collapsed": false
   },
   "outputs": [
    {
     "data": {
      "text/plain": [
       "pos\n",
       "C    Axes(0.125,0.125;0.775x0.775)\n",
       "F    Axes(0.125,0.125;0.775x0.775)\n",
       "G    Axes(0.125,0.125;0.775x0.775)\n",
       "dtype: object"
      ]
     },
     "execution_count": 62,
     "metadata": {},
     "output_type": "execute_result"
    },
    {
     "data": {
      "image/png": "[encoded data removed]",
      "text/plain": [
       "<matplotlib.figure.Figure at 0x13685668>"
      ]
     },
     "metadata": {},
     "output_type": "display_data"
    },
    {
     "data": {
      "image/png": "[encoded data removed]",
      "text/plain": [
       "<matplotlib.figure.Figure at 0x13a38908>"
      ]
     },
     "metadata": {},
     "output_type": "display_data"
    },
    {
     "data": {
      "image/png": "[encoded data removed]",
      "text/plain": [
       "<matplotlib.figure.Figure at 0x13b6f080>"
      ]
     },
     "metadata": {},
     "output_type": "display_data"
    }
   ],
   "source": [
    "# group plot of histograms of assists grouped by position\n",
    "assist.groupby('pos').plot(kind='hist')"
   ]
  },
  {
   "cell_type": "code",
   "execution_count": null,
   "metadata": {
    "collapsed": true
   },
   "outputs": [],
   "source": []
  }
 ],
 "metadata": {
  "kernelspec": {
   "display_name": "Python 2",
   "language": "python",
   "name": "python2"
  },
  "language_info": {
   "codemirror_mode": {
    "name": "ipython",
    "version": 2
   },
   "file_extension": ".py",
   "mimetype": "text/x-python",
   "name": "python",
   "nbconvert_exporter": "python",
   "pygments_lexer": "ipython2",
   "version": "2.7.11"
  }
 },
 "nbformat": 4,
 "nbformat_minor": 0
}
